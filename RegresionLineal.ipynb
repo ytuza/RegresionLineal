{
  "nbformat": 4,
  "nbformat_minor": 0,
  "metadata": {
    "colab": {
      "name": "RegresionLineal.ipynb",
      "provenance": [],
      "collapsed_sections": []
    },
    "kernelspec": {
      "name": "python3",
      "display_name": "Python 3"
    }
  },
  "cells": [
    {
      "cell_type": "code",
      "metadata": {
        "id": "l6Lb1rhTKTuN",
        "colab_type": "code",
        "outputId": "d3e37937-f1a2-4003-efc2-987e33739863",
        "colab": {
          "base_uri": "https://localhost:8080/",
          "height": 225
        }
      },
      "source": [
        "import tensorflow as tf\n",
        "device_name = tf.test.gpu_device_name()\n",
        "if device_name != '/device:GPU:0':\n",
        "  raise SystemError('GPU no encontrada')\n",
        "print('Encontrada GPU: {}'.format(device_name))"
      ],
      "execution_count": 0,
      "outputs": [
        {
          "output_type": "error",
          "ename": "SystemError",
          "evalue": "ignored",
          "traceback": [
            "\u001b[0;31m---------------------------------------------------------------------------\u001b[0m",
            "\u001b[0;31mSystemError\u001b[0m                               Traceback (most recent call last)",
            "\u001b[0;32m<ipython-input-2-fc7fd330d828>\u001b[0m in \u001b[0;36m<module>\u001b[0;34m()\u001b[0m\n\u001b[1;32m      2\u001b[0m \u001b[0mdevice_name\u001b[0m \u001b[0;34m=\u001b[0m \u001b[0mtf\u001b[0m\u001b[0;34m.\u001b[0m\u001b[0mtest\u001b[0m\u001b[0;34m.\u001b[0m\u001b[0mgpu_device_name\u001b[0m\u001b[0;34m(\u001b[0m\u001b[0;34m)\u001b[0m\u001b[0;34m\u001b[0m\u001b[0;34m\u001b[0m\u001b[0m\n\u001b[1;32m      3\u001b[0m \u001b[0;32mif\u001b[0m \u001b[0mdevice_name\u001b[0m \u001b[0;34m!=\u001b[0m \u001b[0;34m'/device:GPU:0'\u001b[0m\u001b[0;34m:\u001b[0m\u001b[0;34m\u001b[0m\u001b[0;34m\u001b[0m\u001b[0m\n\u001b[0;32m----> 4\u001b[0;31m   \u001b[0;32mraise\u001b[0m \u001b[0mSystemError\u001b[0m\u001b[0;34m(\u001b[0m\u001b[0;34m'GPU no encontrada'\u001b[0m\u001b[0;34m)\u001b[0m\u001b[0;34m\u001b[0m\u001b[0;34m\u001b[0m\u001b[0m\n\u001b[0m\u001b[1;32m      5\u001b[0m \u001b[0mprint\u001b[0m\u001b[0;34m(\u001b[0m\u001b[0;34m'Encontrada GPU: {}'\u001b[0m\u001b[0;34m.\u001b[0m\u001b[0mformat\u001b[0m\u001b[0;34m(\u001b[0m\u001b[0mdevice_name\u001b[0m\u001b[0;34m)\u001b[0m\u001b[0;34m)\u001b[0m\u001b[0;34m\u001b[0m\u001b[0;34m\u001b[0m\u001b[0m\n",
            "\u001b[0;31mSystemError\u001b[0m: GPU no encontrada"
          ]
        }
      ]
    },
    {
      "cell_type": "code",
      "metadata": {
        "id": "jng45hfRr0xb",
        "colab_type": "code",
        "colab": {}
      },
      "source": [
        "import numpy as np\n",
        "import pandas as pd\n",
        "import matplotlib.pyplot as plt\n",
        "from math import sqrt\n",
        "from IPython.display import display, HTML"
      ],
      "execution_count": 0,
      "outputs": []
    },
    {
      "cell_type": "code",
      "metadata": {
        "id": "ZdcHhAEuMJgH",
        "colab_type": "code",
        "colab": {}
      },
      "source": [
        "#Librerias para usar Google Drive\n",
        "!pip install -U -q PyDrive\n",
        "from pydrive.auth import GoogleAuth\n",
        "from pydrive.drive import GoogleDrive\n",
        "from google.colab import auth\n",
        "from oauth2client.client import GoogleCredentials"
      ],
      "execution_count": 0,
      "outputs": []
    },
    {
      "cell_type": "code",
      "metadata": {
        "id": "u-Vl8EERVUe2",
        "colab_type": "code",
        "colab": {}
      },
      "source": [
        "# Authenticate and create the PyDrive client.\n",
        "auth.authenticate_user()\n",
        "gauth = GoogleAuth()\n",
        "gauth.credentials = GoogleCredentials.get_application_default()\n",
        "drive = GoogleDrive(gauth)"
      ],
      "execution_count": 0,
      "outputs": []
    },
    {
      "cell_type": "code",
      "metadata": {
        "id": "OvVVPp0_XPE0",
        "colab_type": "code",
        "colab": {}
      },
      "source": [
        "#Leer_Datos\n",
        "data_Home = pd.read_csv('/content/drive/My Drive/2020-1/Data TIA/ex1data2(Home_1f).csv',sep='\\t' ,header=0)\n",
        "data_Petrol = pd.read_csv('/content/drive/My Drive/2020-1/Data TIA/petrol_consumption.csv',sep='\\t' ,header=0)\n",
        "data_Oceano = pd.read_csv('/content/drive/My Drive/2020-1/Data TIA/oceano_simple.csv',sep='\\t' ,header=0)\n",
        "\n",
        "def Array(data):\n",
        "  x = np.array(data.iloc[:,0:-1])\n",
        "  y = np.array(data.iloc[:,-1])\n",
        "  return x, y\n",
        "\n",
        "x_Home , y_Home = Array(data_Home)\n",
        "x_Petrol , y_Petrol = Array(data_Petrol)\n",
        "x_Oceano , y_Oceano = Array(data_Oceano)\n",
        "\n",
        "#print(x_Petrol)\n",
        "#print(y_Home)"
      ],
      "execution_count": 0,
      "outputs": []
    },
    {
      "cell_type": "code",
      "metadata": {
        "id": "8-assPC5MzqM",
        "colab_type": "code",
        "outputId": "67a7d04e-31e4-4e15-b01c-e95d0d01d898",
        "colab": {
          "base_uri": "https://localhost:8080/",
          "height": 70
        }
      },
      "source": [
        "#Normalizar_Datos\n",
        "def Normalizar_Datos(data):\n",
        "  rpta = np.empty(data.shape)\n",
        "  mean = np.mean(data,0)\n",
        "  stdd = np.std(data,0)\n",
        "  for i in range(0,data.shape[0]):\n",
        "    rpta[i] = np.true_divide((data[i] - mean), stdd)\n",
        "    #print(np.true_divide((data[i] - mean), stdd))\n",
        "  return rpta\n",
        "\n",
        "nx_Home = Normalizar_Datos(x_Home)\n",
        "nx_Petrol = Normalizar_Datos(x_Petrol)\n",
        "nx_Oceano = Normalizar_Datos(x_Oceano)\n",
        "\n",
        "ny_Home = Normalizar_Datos(y_Home)\n",
        "ny_Petrol = Normalizar_Datos(y_Petrol)\n",
        "ny_Oceano = Normalizar_Datos(y_Oceano)\n",
        "\n",
        "\n",
        "#Prueba y Test\n",
        "\n",
        "def Crear_Entrenamiento_Prueba(x_data):\n",
        "  train , test = np.split(x_data,[int(0.7*len(x_data))])\n",
        "  return train,test\n",
        "\n",
        "tr_Home_x, te_Home_x = Crear_Entrenamiento_Prueba(nx_Home)\n",
        "tr_Petrol_x, te_Petrol_x = Crear_Entrenamiento_Prueba(nx_Petrol)\n",
        "tr_Oceano_x, te_Oceano_x = Crear_Entrenamiento_Prueba(nx_Oceano)\n",
        "\n",
        "tr_Home_y, te_Home_y = Crear_Entrenamiento_Prueba(ny_Home)\n",
        "tr_Petrol_y, te_Petrol_y = Crear_Entrenamiento_Prueba(ny_Petrol)\n",
        "tr_Oceano_y, te_Oceano_y = Crear_Entrenamiento_Prueba(ny_Oceano)\n",
        "\n",
        "#Fila de 1s\n",
        "def addf1(x_data):\n",
        "  return np.insert(x_data, 0, 1, axis=1)\n",
        "\n",
        "tr_Home_x = addf1(tr_Home_x)\n",
        "tr_Petrol_x = addf1(tr_Petrol_x)\n",
        "tr_Oceano_x = addf1(tr_Oceano_x)\n",
        "\n",
        "te_Home_x = addf1(te_Home_x)\n",
        "te_Petrol_x = addf1(te_Petrol_x)\n",
        "te_Oceano_x = addf1(te_Oceano_x)\n",
        "\n",
        "#print(tr_Home_x)\n",
        "#Crear theta\n",
        "def theta(n):\n",
        "  return np.zeros(n)[np.newaxis]\n",
        "\n",
        "\"\"\"\"\n",
        "print(tr_Home.shape[1])\n",
        "print(tr_Petrol.shape[1])\n",
        "print(tr_Oceano.shape[1])\n",
        "\"\"\"\n",
        "theta_H = theta(tr_Home_x.shape[1])\n",
        "theta_P = theta(tr_Petrol_x.shape[1])\n",
        "theta_O = theta(tr_Oceano_x.shape[1])\n",
        "\n",
        "print(theta_H)\n",
        "print(theta_P)\n",
        "print(theta_O)\n",
        "\n",
        "tr_Home_y = tr_Home_y.reshape(len(tr_Home_y),1)\n",
        "tr_Oceano_y = tr_Oceano_y.reshape(len(tr_Oceano_y),1)\n",
        "tr_Petrol_y = tr_Petrol_y.reshape(len(tr_Petrol_y),1)\n",
        "te_Home_y = te_Home_y.reshape(len(te_Home_y),1)\n",
        "te_Oceano_y = te_Oceano_y.reshape(len(te_Oceano_y),1)\n",
        "te_Petrol_y = te_Petrol_y.reshape(len(te_Petrol_y),1)\n",
        "\n",
        "\n",
        "\n",
        "#print(tr_Home_y)\n",
        "\n",
        "#Yo = tr_Home_y.reshape(tr_Home_y.shape[0],1)\n"
      ],
      "execution_count": 5,
      "outputs": [
        {
          "output_type": "stream",
          "text": [
            "[[0. 0.]]\n",
            "[[0. 0. 0. 0. 0.]]\n",
            "[[0. 0.]]\n"
          ],
          "name": "stdout"
        }
      ]
    },
    {
      "cell_type": "code",
      "metadata": {
        "id": "e4D4Dwe7gXSB",
        "colab_type": "code",
        "colab": {}
      },
      "source": [
        "#Calcular Costo\n",
        "def Costo(x , y, theta):\n",
        "  m = x.shape[0]\n",
        "  cost = np.sum((x.dot(theta.T) - y)**2) / (2 * m)\n",
        "  return cost\n",
        "\n",
        "#Gradiente Descendiente \n",
        "def Gradiente(x,y, theta, it, alpha):\n",
        "  costos = np.empty(it)\n",
        "  m = x.shape[0]\n",
        "  for i in range(it):\n",
        "    h = x.dot(theta.T)\n",
        "    dif = h-y\n",
        "    der = (x.T).dot(dif)/ m\n",
        "    theta = theta - (alpha * der).T\n",
        "    costos[i] = Costo(x,y,theta)\n",
        "  return theta, costos\n",
        "\n",
        "def Normal(X, Y):\n",
        "    Theta = np.linalg.inv(X.T.dot(X))\n",
        "    Theta = Theta.dot(X.T)\n",
        "    Theta = Theta.dot(Y)\n",
        "    return Theta.T\n",
        "\n",
        "def MSE(Y_r, Y):\n",
        "    m = len(Y)\n",
        "    return np.sum((Y_r - Y)**2) / m\n",
        "\n"
      ],
      "execution_count": 0,
      "outputs": []
    },
    {
      "cell_type": "markdown",
      "metadata": {
        "id": "h_Y8M2bXZ166",
        "colab_type": "text"
      },
      "source": [
        "Experimento 1: Mostrar en una tabla del Error Cuadratico Medio de la Regresion Lineal usando la Ecuacion Normal para los conjuntos de entrenamiento y prueba de Consumo de Petroleo\", \"Precio Viviendas\"y Temperatura Oceano\"."
      ]
    },
    {
      "cell_type": "code",
      "metadata": {
        "id": "ltJAGJehZng1",
        "colab_type": "code",
        "outputId": "697c8f4c-d985-4955-9a7d-9278982b3f25",
        "colab": {
          "base_uri": "https://localhost:8080/",
          "height": 125
        }
      },
      "source": [
        "#Experimento1 \n",
        "import pandas as pd\n",
        "\n",
        "t_H_n = Normal(tr_Home_x, tr_Home_y)\n",
        "t_P_n = Normal(tr_Petrol_x, tr_Petrol_y)\n",
        "t_O_n = Normal(tr_Oceano_x, tr_Oceano_y)\n",
        "\n",
        "print(t_H_n)\n",
        "\n",
        "tr_H_en = MSE(tr_Home_x.dot(t_H_n.T), tr_Home_y)\n",
        "te_H_en = MSE(te_Home_x.dot(t_H_n.T), te_Home_y)\n",
        "tr_P_en = MSE(tr_Petrol_x.dot(t_P_n.T), tr_Petrol_y)\n",
        "te_P_en = MSE(te_Petrol_x.dot(t_P_n.T), te_Petrol_y)\n",
        "tr_O_en = MSE(tr_Oceano_x.dot(t_O_n.T), tr_Oceano_y)\n",
        "te_O_en = MSE(te_Oceano_x.dot(t_O_n.T), te_Oceano_y)\n",
        "\n",
        "\n",
        "df = pd.DataFrame({'Consumo Petróleo':[tr_P_en,te_P_en],'Precio Vivienda':[tr_H_en,te_H_en],'Temperatura Océano':[tr_O_en,te_O_en]},\n",
        "                  index=[\"Entrenamiento\",\"Prueba\"])\n",
        "#print(df)                        \n",
        "display(HTML(df.to_html()))\n"
      ],
      "execution_count": 7,
      "outputs": [
        {
          "output_type": "stream",
          "text": [
            "[[0.04941133 0.93421781]]\n"
          ],
          "name": "stdout"
        },
        {
          "output_type": "display_data",
          "data": {
            "text/html": [
              "<table border=\"1\" class=\"dataframe\">\n",
              "  <thead>\n",
              "    <tr style=\"text-align: right;\">\n",
              "      <th></th>\n",
              "      <th>Consumo Petróleo</th>\n",
              "      <th>Precio Vivienda</th>\n",
              "      <th>Temperatura Océano</th>\n",
              "    </tr>\n",
              "  </thead>\n",
              "  <tbody>\n",
              "    <tr>\n",
              "      <th>Entrenamiento</th>\n",
              "      <td>0.211136</td>\n",
              "      <td>0.292740</td>\n",
              "      <td>0.169704</td>\n",
              "    </tr>\n",
              "    <tr>\n",
              "      <th>Prueba</th>\n",
              "      <td>0.711440</td>\n",
              "      <td>0.245661</td>\n",
              "      <td>0.114843</td>\n",
              "    </tr>\n",
              "  </tbody>\n",
              "</table>"
            ],
            "text/plain": [
              "<IPython.core.display.HTML object>"
            ]
          },
          "metadata": {
            "tags": []
          }
        }
      ]
    },
    {
      "cell_type": "code",
      "metadata": {
        "id": "OBwibeKATKhK",
        "colab_type": "code",
        "outputId": "e8a4896e-706b-42be-9099-6acc8af356b7",
        "colab": {
          "base_uri": "https://localhost:8080/",
          "height": 738
        }
      },
      "source": [
        "alphas = [0.01, 0.05, 0.1, 0.2, 0.3, 0.4]\n",
        "its = [500, 1000, 1500, 2000, 2500, 3000, 3500]\n",
        "\n",
        "rpta = np.empty([len(alphas),len(its)])\n",
        "\n",
        "min = 999\n",
        "min_p = (0,0)\n",
        "for i_a in range(len(alphas)):\n",
        "    for i_it in range(len(its)):\n",
        "      tmp_theta , _ = Gradiente(tr_Home_x, tr_Home_y, theta_H , its[i_it],alphas[i_a])\n",
        "      rpta_l = MSE(te_Home_x.dot(tmp_theta.T), te_Home_y)\n",
        "      rpta[i_a,i_it] = rpta_l\n",
        "      if(rpta_l < min):\n",
        "        min = rpta_l\n",
        "        min_p = (i_a,i_it)\n",
        "\n",
        "print(\"Precio Viviendas, menor MSE con:\",alphas[min_p[0]],its[min_p[1]])\n",
        "df1 = pd.DataFrame(data = rpta, index= alphas, columns = its)\n",
        "display(HTML(df1.to_html()))\n",
        "\n",
        "\n",
        "rpta = np.empty([len(alphas),len(its)])\n",
        "\n",
        "min = 999\n",
        "min_p = (0,0)\n",
        "for i_a in range(len(alphas)):\n",
        "    for i_it in range(len(its)):\n",
        "      tmp_theta , _ = Gradiente(tr_Petrol_x, tr_Petrol_y, theta_P , its[i_it],alphas[i_a])\n",
        "      rpta_l = MSE(te_Petrol_x.dot(tmp_theta.T), te_Petrol_y)\n",
        "      rpta[i_a,i_it] = rpta_l\n",
        "      if(rpta_l < min):\n",
        "        min = rpta_l\n",
        "        min_p = (i_a,i_it)\n",
        "\n",
        "print(\"\\nConsumo Petróleo, menor MSE con:\",alphas[min_p[0]],its[min_p[1]])\n",
        "df1 = pd.DataFrame(data = rpta, index= alphas, columns = its)\n",
        "display(HTML(df1.to_html()))\n",
        "\n",
        "rpta = np.empty([len(alphas),len(its)])\n",
        "\n",
        "min = 999\n",
        "min_p = (0,0)\n",
        "for i_a in range(len(alphas)):\n",
        "    for i_it in range(len(its)):\n",
        "      tmp_theta , _ = Gradiente(tr_Oceano_x, tr_Oceano_y, theta_O , its[i_it],alphas[i_a])\n",
        "      rpta_l = MSE(te_Oceano_x.dot(tmp_theta.T), te_Oceano_y)\n",
        "      rpta[i_a,i_it] = rpta_l\n",
        "      if(rpta_l < min):\n",
        "        min = rpta_l\n",
        "        min_p = (i_a,i_it)\n",
        "\n",
        "print(\"\\nTemperatura Océano, menor MSE con:\",alphas[min_p[0]],its[min_p[1]])\n",
        "df1 = pd.DataFrame(data = rpta, index= alphas, columns = its)\n",
        "display(HTML(df1.to_html()))\n"
      ],
      "execution_count": 8,
      "outputs": [
        {
          "output_type": "stream",
          "text": [
            "Precio Viviendas, menor MSE con: 0.01 500\n"
          ],
          "name": "stdout"
        },
        {
          "output_type": "display_data",
          "data": {
            "text/html": [
              "<table border=\"1\" class=\"dataframe\">\n",
              "  <thead>\n",
              "    <tr style=\"text-align: right;\">\n",
              "      <th></th>\n",
              "      <th>500</th>\n",
              "      <th>1000</th>\n",
              "      <th>1500</th>\n",
              "      <th>2000</th>\n",
              "      <th>2500</th>\n",
              "      <th>3000</th>\n",
              "      <th>3500</th>\n",
              "    </tr>\n",
              "  </thead>\n",
              "  <tbody>\n",
              "    <tr>\n",
              "      <th>0.01</th>\n",
              "      <td>0.241804</td>\n",
              "      <td>0.245629</td>\n",
              "      <td>0.245661</td>\n",
              "      <td>0.245661</td>\n",
              "      <td>0.245661</td>\n",
              "      <td>0.245661</td>\n",
              "      <td>0.245661</td>\n",
              "    </tr>\n",
              "    <tr>\n",
              "      <th>0.05</th>\n",
              "      <td>0.245661</td>\n",
              "      <td>0.245661</td>\n",
              "      <td>0.245661</td>\n",
              "      <td>0.245661</td>\n",
              "      <td>0.245661</td>\n",
              "      <td>0.245661</td>\n",
              "      <td>0.245661</td>\n",
              "    </tr>\n",
              "    <tr>\n",
              "      <th>0.10</th>\n",
              "      <td>0.245661</td>\n",
              "      <td>0.245661</td>\n",
              "      <td>0.245661</td>\n",
              "      <td>0.245661</td>\n",
              "      <td>0.245661</td>\n",
              "      <td>0.245661</td>\n",
              "      <td>0.245661</td>\n",
              "    </tr>\n",
              "    <tr>\n",
              "      <th>0.20</th>\n",
              "      <td>0.245661</td>\n",
              "      <td>0.245661</td>\n",
              "      <td>0.245661</td>\n",
              "      <td>0.245661</td>\n",
              "      <td>0.245661</td>\n",
              "      <td>0.245661</td>\n",
              "      <td>0.245661</td>\n",
              "    </tr>\n",
              "    <tr>\n",
              "      <th>0.30</th>\n",
              "      <td>0.245661</td>\n",
              "      <td>0.245661</td>\n",
              "      <td>0.245661</td>\n",
              "      <td>0.245661</td>\n",
              "      <td>0.245661</td>\n",
              "      <td>0.245661</td>\n",
              "      <td>0.245661</td>\n",
              "    </tr>\n",
              "    <tr>\n",
              "      <th>0.40</th>\n",
              "      <td>0.245661</td>\n",
              "      <td>0.245661</td>\n",
              "      <td>0.245661</td>\n",
              "      <td>0.245661</td>\n",
              "      <td>0.245661</td>\n",
              "      <td>0.245661</td>\n",
              "      <td>0.245661</td>\n",
              "    </tr>\n",
              "  </tbody>\n",
              "</table>"
            ],
            "text/plain": [
              "<IPython.core.display.HTML object>"
            ]
          },
          "metadata": {
            "tags": []
          }
        },
        {
          "output_type": "stream",
          "text": [
            "\n",
            "Consumo Petróleo, menor MSE con: 0.01 500\n"
          ],
          "name": "stdout"
        },
        {
          "output_type": "display_data",
          "data": {
            "text/html": [
              "<table border=\"1\" class=\"dataframe\">\n",
              "  <thead>\n",
              "    <tr style=\"text-align: right;\">\n",
              "      <th></th>\n",
              "      <th>500</th>\n",
              "      <th>1000</th>\n",
              "      <th>1500</th>\n",
              "      <th>2000</th>\n",
              "      <th>2500</th>\n",
              "      <th>3000</th>\n",
              "      <th>3500</th>\n",
              "    </tr>\n",
              "  </thead>\n",
              "  <tbody>\n",
              "    <tr>\n",
              "      <th>0.01</th>\n",
              "      <td>0.684621</td>\n",
              "      <td>0.703287</td>\n",
              "      <td>0.709549</td>\n",
              "      <td>0.711014</td>\n",
              "      <td>0.711345</td>\n",
              "      <td>0.711419</td>\n",
              "      <td>0.711435</td>\n",
              "    </tr>\n",
              "    <tr>\n",
              "      <th>0.05</th>\n",
              "      <td>0.711349</td>\n",
              "      <td>0.711440</td>\n",
              "      <td>0.711440</td>\n",
              "      <td>0.711440</td>\n",
              "      <td>0.711440</td>\n",
              "      <td>0.711440</td>\n",
              "      <td>0.711440</td>\n",
              "    </tr>\n",
              "    <tr>\n",
              "      <th>0.10</th>\n",
              "      <td>0.711440</td>\n",
              "      <td>0.711440</td>\n",
              "      <td>0.711440</td>\n",
              "      <td>0.711440</td>\n",
              "      <td>0.711440</td>\n",
              "      <td>0.711440</td>\n",
              "      <td>0.711440</td>\n",
              "    </tr>\n",
              "    <tr>\n",
              "      <th>0.20</th>\n",
              "      <td>0.711440</td>\n",
              "      <td>0.711440</td>\n",
              "      <td>0.711440</td>\n",
              "      <td>0.711440</td>\n",
              "      <td>0.711440</td>\n",
              "      <td>0.711440</td>\n",
              "      <td>0.711440</td>\n",
              "    </tr>\n",
              "    <tr>\n",
              "      <th>0.30</th>\n",
              "      <td>0.711440</td>\n",
              "      <td>0.711440</td>\n",
              "      <td>0.711440</td>\n",
              "      <td>0.711440</td>\n",
              "      <td>0.711440</td>\n",
              "      <td>0.711440</td>\n",
              "      <td>0.711440</td>\n",
              "    </tr>\n",
              "    <tr>\n",
              "      <th>0.40</th>\n",
              "      <td>0.711440</td>\n",
              "      <td>0.711440</td>\n",
              "      <td>0.711440</td>\n",
              "      <td>0.711440</td>\n",
              "      <td>0.711440</td>\n",
              "      <td>0.711440</td>\n",
              "      <td>0.711440</td>\n",
              "    </tr>\n",
              "  </tbody>\n",
              "</table>"
            ],
            "text/plain": [
              "<IPython.core.display.HTML object>"
            ]
          },
          "metadata": {
            "tags": []
          }
        },
        {
          "output_type": "stream",
          "text": [
            "\n",
            "Temperatura Océano, menor MSE con: 0.2 500\n"
          ],
          "name": "stdout"
        },
        {
          "output_type": "display_data",
          "data": {
            "text/html": [
              "<table border=\"1\" class=\"dataframe\">\n",
              "  <thead>\n",
              "    <tr style=\"text-align: right;\">\n",
              "      <th></th>\n",
              "      <th>500</th>\n",
              "      <th>1000</th>\n",
              "      <th>1500</th>\n",
              "      <th>2000</th>\n",
              "      <th>2500</th>\n",
              "      <th>3000</th>\n",
              "      <th>3500</th>\n",
              "    </tr>\n",
              "  </thead>\n",
              "  <tbody>\n",
              "    <tr>\n",
              "      <th>0.01</th>\n",
              "      <td>0.115236</td>\n",
              "      <td>0.114845</td>\n",
              "      <td>0.114844</td>\n",
              "      <td>0.114843</td>\n",
              "      <td>0.114843</td>\n",
              "      <td>0.114843</td>\n",
              "      <td>0.114843</td>\n",
              "    </tr>\n",
              "    <tr>\n",
              "      <th>0.05</th>\n",
              "      <td>0.114843</td>\n",
              "      <td>0.114843</td>\n",
              "      <td>0.114843</td>\n",
              "      <td>0.114843</td>\n",
              "      <td>0.114843</td>\n",
              "      <td>0.114843</td>\n",
              "      <td>0.114843</td>\n",
              "    </tr>\n",
              "    <tr>\n",
              "      <th>0.10</th>\n",
              "      <td>0.114843</td>\n",
              "      <td>0.114843</td>\n",
              "      <td>0.114843</td>\n",
              "      <td>0.114843</td>\n",
              "      <td>0.114843</td>\n",
              "      <td>0.114843</td>\n",
              "      <td>0.114843</td>\n",
              "    </tr>\n",
              "    <tr>\n",
              "      <th>0.20</th>\n",
              "      <td>0.114843</td>\n",
              "      <td>0.114843</td>\n",
              "      <td>0.114843</td>\n",
              "      <td>0.114843</td>\n",
              "      <td>0.114843</td>\n",
              "      <td>0.114843</td>\n",
              "      <td>0.114843</td>\n",
              "    </tr>\n",
              "    <tr>\n",
              "      <th>0.30</th>\n",
              "      <td>0.114843</td>\n",
              "      <td>0.114843</td>\n",
              "      <td>0.114843</td>\n",
              "      <td>0.114843</td>\n",
              "      <td>0.114843</td>\n",
              "      <td>0.114843</td>\n",
              "      <td>0.114843</td>\n",
              "    </tr>\n",
              "    <tr>\n",
              "      <th>0.40</th>\n",
              "      <td>0.114843</td>\n",
              "      <td>0.114843</td>\n",
              "      <td>0.114843</td>\n",
              "      <td>0.114843</td>\n",
              "      <td>0.114843</td>\n",
              "      <td>0.114843</td>\n",
              "      <td>0.114843</td>\n",
              "    </tr>\n",
              "  </tbody>\n",
              "</table>"
            ],
            "text/plain": [
              "<IPython.core.display.HTML object>"
            ]
          },
          "metadata": {
            "tags": []
          }
        }
      ]
    },
    {
      "cell_type": "code",
      "metadata": {
        "id": "jG2n4P-gZuKc",
        "colab_type": "code",
        "outputId": "6534f824-927a-41b1-f58c-641fbd845576",
        "colab": {
          "base_uri": "https://localhost:8080/",
          "height": 403
        }
      },
      "source": [
        "#experimento 3\n",
        "\n",
        "def No_Normalizar(data,t):\n",
        "  mean = np.mean(data,0)\n",
        "  stdd = np.std(data,0)\n",
        "\n",
        "  return (t*stdd)+mean\n",
        "\n",
        "\n",
        "fig, ax = plt.subplots(1,2,figsize=(12,5))\n",
        "\n",
        "points =  np.array(data_Home.iloc[:,:])\n",
        "print(theta_H)\n",
        "\n",
        "tmp_theta , _ = Gradiente(tr_Home_x, tr_Home_y, theta_H , its[0],alphas[0])\n",
        "\n",
        "tmp = No_Normalizar(x_Home,t_H_n);\n",
        "print(tmp)\n",
        "\n",
        "rect_p = np.arange(-2,3.5,0.1)[np.newaxis].T\n",
        "rect_p = np.insert(rect_p, 0, 1, axis=1)\n",
        "\n",
        "yn = rect_p.dot(t_H_n.T)\n",
        "yg = rect_p.dot(tmp_theta.T)\n",
        "\n",
        "rect_p = No_Normalizar(x_Home,rect_p)\n",
        "yn = No_Normalizar(y_Home,yn)\n",
        "\n",
        "yg = No_Normalizar(y_Home,yg)\n",
        "\n",
        "ax[0].scatter(points[:,0],points[:,1])\n",
        "ax[0].plot(rect_p[:,1],yg,'-r',linewidth=3.0)\n",
        "ax[0].set_title(\"Gradiente Descendiente\")\n",
        "ax[0].set_xlabel(\"Tamanio\")\n",
        "ax[0].set_ylabel(\"Precio\")\n",
        "\n",
        "ax[1].scatter(points[:,0],points[:,1])\n",
        "ax[1].plot(rect_p[:,1],yn,'-b',linewidth=3.0)\n",
        "ax[1].set_title(\"Ec Normal\")\n",
        "ax[1].set_xlabel(\"Tamanio\")\n",
        "ax[1].set_ylabel(\"Precio\")\n",
        "\n"
      ],
      "execution_count": 9,
      "outputs": [
        {
          "output_type": "stream",
          "text": [
            "[[0. 0.]]\n",
            "[[2039.5281712  2735.16533761]]\n"
          ],
          "name": "stdout"
        },
        {
          "output_type": "execute_result",
          "data": {
            "text/plain": [
              "Text(0, 0.5, 'Precio')"
            ]
          },
          "metadata": {
            "tags": []
          },
          "execution_count": 9
        },
        {
          "output_type": "display_data",
          "data": {
            "image/png": "[encoded data removed]",
            "text/plain": [
              "<Figure size 864x360 with 2 Axes>"
            ]
          },
          "metadata": {
            "tags": [],
            "needs_background": "light"
          }
        }
      ]
    },
    {
      "cell_type": "code",
      "metadata": {
        "id": "hg8AONdrtouP",
        "colab_type": "code",
        "outputId": "ee3ea49e-efab-464b-d3dd-fbb91a6da329",
        "colab": {
          "base_uri": "https://localhost:8080/",
          "height": 844
        }
      },
      "source": [
        "#Experimento 4\n",
        "\n",
        "fig, ax = plt.subplots(1,3,figsize=(20,6))\n",
        "\n",
        "print(\"ENTRENAMIENTO - ROJO\")\n",
        "\n",
        "\n",
        "theta_H4, costos_H = Gradiente(tr_Home_x, tr_Home_y, theta_H, its[0], alphas[0])\n",
        "ax[0].scatter(np.arange(its[0]),costos_H, c=\"red\", s=5)\n",
        "ax[0].s_title(\"Pecio Vivienda\")\n",
        "ax[0].set_xlabel('Iteraciones')\n",
        "ax[0].set_ylabel('Costo')\n",
        "\n",
        "theta_O4 , costos_O = Gradiente(tr_Oceano_x, tr_Oceano_y, theta_O, its[0], alphas[0])\n",
        "ax[1].scatter(np.arange(its[0]),costos_O, c=\"red\", s=5)\n",
        "ax[1].set_title(\"Temperatura Océano\")\n",
        "ax[1].set_xlabel('Iteraciones')\n",
        "ax[1].set_ylabel('Costo')\n",
        "\n",
        "theta_P4, costos_P = Gradiente(tr_Petrol_x, tr_Petrol_y, theta_P, its[0], alphas[0])\n",
        "ax[2].scatter(np.arange(its[0]),costos_P, c=\"red\", s=5)\n",
        "ax[2].set_title(\"Consumo Petróleo\")\n",
        "ax[2].set_xlabel('Iteraciones')\n",
        "ax[2].set_ylabel('Costo')\n",
        "\n",
        "\n",
        "fig2, ax2 = plt.subplots(1,3,figsize=(20,6))\n",
        "\n",
        "print(\"PRUEBA - AZUL\")\n",
        "\n",
        "\n",
        "theta_H4, costos_H = Gradiente(te_Home_x, te_Home_y, theta_H, its[0], alphas[0])\n",
        "ax2[0].scatter(np.arange(its[0]),costos_H, c=\"blue\", s=5)\n",
        "ax2[0].set_title(\"Pecio Vivienda\")\n",
        "ax2[0].set_xlabel('Iteraciones')\n",
        "ax2[0].set_ylabel('Costo')\n",
        "\n",
        "theta_O4 , costos_O = Gradiente(te_Oceano_x, te_Oceano_y, theta_O, its[0], alphas[0])\n",
        "ax2[1].scatter(np.arange(its[0]),costos_O, c=\"blue\", s=5)\n",
        "ax2[1].set_title(\"Temperatura Océano\")\n",
        "ax2[1].set_xlabel('Iteraciones')\n",
        "ax2[1].set_ylabel('Costo')\n",
        "\n",
        "theta_P4, costos_P = Gradiente(te_Petrol_x, te_Petrol_y, theta_P, its[0], alphas[0])\n",
        "ax2[2].scatter(np.arange(its[0]),costos_P, c=\"blue\", s=5)\n",
        "ax2[2].set_title(\"Consumo Petróleo\")\n",
        "ax2[2].set_xlabel('Iteraciones')\n",
        "ax2[2].set_ylabel('Costo')\n",
        "\n",
        "\n"
      ],
      "execution_count": 21,
      "outputs": [
        {
          "output_type": "stream",
          "text": [
            "ENTRENAMIENTO - ROJO\n",
            "PRUEBA - AZUL\n"
          ],
          "name": "stdout"
        },
        {
          "output_type": "execute_result",
          "data": {
            "text/plain": [
              "Text(0, 0.5, 'Costo')"
            ]
          },
          "metadata": {
            "tags": []
          },
          "execution_count": 21
        },
        {
          "output_type": "display_data",
          "data": {
            "image/png": "[encoded data removed]",
            "text/plain": [
              "<Figure size 1440x432 with 3 Axes>"
            ]
          },
          "metadata": {
            "tags": [],
            "needs_background": "light"
          }
        },
        {
          "output_type": "display_data",
          "data": {
            "image/png": "[encoded data removed]",
            "text/plain": [
              "<Figure size 1440x432 with 3 Axes>"
            ]
          },
          "metadata": {
            "tags": [],
            "needs_background": "light"
          }
        }
      ]
    }
  ]
}